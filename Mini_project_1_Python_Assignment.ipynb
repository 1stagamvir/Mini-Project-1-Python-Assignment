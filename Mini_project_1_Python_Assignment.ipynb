{
  "nbformat": 4,
  "nbformat_minor": 0,
  "metadata": {
    "colab": {
      "provenance": [],
      "authorship_tag": "ABX9TyMPKZVUVs53ZAaiErGFU/gm",
      "include_colab_link": true
    },
    "kernelspec": {
      "name": "python3",
      "display_name": "Python 3"
    },
    "language_info": {
      "name": "python"
    }
  },
  "cells": [
    {
      "cell_type": "markdown",
      "metadata": {
        "id": "view-in-github",
        "colab_type": "text"
      },
      "source": [
        "<a href=\"https://colab.research.google.com/github/1stagamvir/Mini-Project-1-Python-Assignment/blob/main/Mini_project_1_Python_Assignment.ipynb\" target=\"_parent\"><img src=\"https://colab.research.google.com/assets/colab-badge.svg\" alt=\"Open In Colab\"/></a>"
      ]
    },
    {
      "cell_type": "markdown",
      "source": [
        "# ***Python assignment***\n"
      ],
      "metadata": {
        "id": "41uErWOmcScm"
      }
    },
    {
      "cell_type": "markdown",
      "source": [
        "## 1. L is a list defined as L=[11,12,13,14]"
      ],
      "metadata": {
        "id": "4b2OsO34euwK"
      }
    },
    {
      "cell_type": "code",
      "source": [
        "L=[11,12,13,14]"
      ],
      "metadata": {
        "id": "oPJoJrE5-FRv"
      },
      "execution_count": 1,
      "outputs": []
    },
    {
      "cell_type": "markdown",
      "source": [
        "### 1.1 WAP to add 50 and 60 to L"
      ],
      "metadata": {
        "id": "40_bTZYffBuO"
      }
    },
    {
      "cell_type": "code",
      "source": [
        "L.extend([50,60])\n",
        "print(\"After adding 50 and 60:\", L)"
      ],
      "metadata": {
        "colab": {
          "base_uri": "https://localhost:8080/"
        },
        "id": "z842kWuPfVtJ",
        "outputId": "881be140-828d-4eb2-b3cf-17abdecfc606"
      },
      "execution_count": 2,
      "outputs": [
        {
          "output_type": "stream",
          "name": "stdout",
          "text": [
            "After adding 50 and 60: [11, 12, 13, 14, 50, 60]\n"
          ]
        }
      ]
    },
    {
      "cell_type": "markdown",
      "source": [
        "### 1.2 WAP to remove 11 And 13 from L"
      ],
      "metadata": {
        "id": "O_cJKauVfxFV"
      }
    },
    {
      "cell_type": "code",
      "source": [
        "L.remove(11)\n",
        "L.remove(13)\n",
        "print(\"After removing 11 and 13:\", L)"
      ],
      "metadata": {
        "colab": {
          "base_uri": "https://localhost:8080/"
        },
        "id": "YBrldUTkf-zb",
        "outputId": "de06440e-1e4b-48b6-ca7f-2cd84a4aa0a7"
      },
      "execution_count": 3,
      "outputs": [
        {
          "output_type": "stream",
          "name": "stdout",
          "text": [
            "After removing 11 and 13: [12, 14, 50, 60]\n"
          ]
        }
      ]
    },
    {
      "cell_type": "markdown",
      "source": [
        "### 1.3 WAP to sort L in ascending order\n"
      ],
      "metadata": {
        "id": "EbhsNUCGUYgp"
      }
    },
    {
      "cell_type": "code",
      "source": [
        "L.sort()\n",
        "print(\"Sorted in ascending order:\", L)\n"
      ],
      "metadata": {
        "colab": {
          "base_uri": "https://localhost:8080/"
        },
        "id": "hHcsp-cOUvEZ",
        "outputId": "f3e0f440-5b7b-461a-b6d8-5dfbae738a3c"
      },
      "execution_count": 4,
      "outputs": [
        {
          "output_type": "stream",
          "name": "stdout",
          "text": [
            "Sorted in ascending order: [12, 14, 50, 60]\n"
          ]
        }
      ]
    },
    {
      "cell_type": "markdown",
      "source": [
        "### 1.4 WAP to sort L in descending order"
      ],
      "metadata": {
        "id": "--MYMe2aU-pL"
      }
    },
    {
      "cell_type": "code",
      "source": [
        "L.sort(reverse=True)\n",
        "print(\"Sorted in descending order:\", L)"
      ],
      "metadata": {
        "colab": {
          "base_uri": "https://localhost:8080/"
        },
        "id": "nU5huVrmVJLU",
        "outputId": "b1beeb24-69df-4696-f3c3-3c0020f11957"
      },
      "execution_count": 5,
      "outputs": [
        {
          "output_type": "stream",
          "name": "stdout",
          "text": [
            "Sorted in descending order: [60, 50, 14, 12]\n"
          ]
        }
      ]
    },
    {
      "cell_type": "markdown",
      "source": [
        "### 1.5 WAP to search for 13 in L"
      ],
      "metadata": {
        "id": "CKN0RXpJVUzX"
      }
    },
    {
      "cell_type": "code",
      "source": [
        "print(\"Is 13 in L?\", 13 in L)"
      ],
      "metadata": {
        "id": "5StTkIKlVbk-",
        "colab": {
          "base_uri": "https://localhost:8080/"
        },
        "outputId": "e5af9a93-2f75-44e5-8600-181c63096d01"
      },
      "execution_count": 6,
      "outputs": [
        {
          "output_type": "stream",
          "name": "stdout",
          "text": [
            "Is 13 in L? False\n"
          ]
        }
      ]
    },
    {
      "cell_type": "markdown",
      "source": [
        "### 1.6 WAP to count the number of elements present in L"
      ],
      "metadata": {
        "id": "l_XO1CD9-pK8"
      }
    },
    {
      "cell_type": "code",
      "source": [
        "print(\"Number of elements:\", len(L))"
      ],
      "metadata": {
        "colab": {
          "base_uri": "https://localhost:8080/"
        },
        "id": "OAALEYGX-4oN",
        "outputId": "9708ed88-452f-4849-b05e-6513f478f7e1"
      },
      "execution_count": 7,
      "outputs": [
        {
          "output_type": "stream",
          "name": "stdout",
          "text": [
            "Number of elements: 4\n"
          ]
        }
      ]
    },
    {
      "cell_type": "markdown",
      "source": [
        "### 1.7 WAP to sum all the elements in L."
      ],
      "metadata": {
        "id": "GuqWyfAd--Mo"
      }
    },
    {
      "cell_type": "code",
      "source": [
        "print(\"Sum of all elements:\", sum(L))\n"
      ],
      "metadata": {
        "colab": {
          "base_uri": "https://localhost:8080/"
        },
        "id": "XzO3W63x_E5N",
        "outputId": "7cad9ade-64af-4514-8b2a-b2681b944717"
      },
      "execution_count": 8,
      "outputs": [
        {
          "output_type": "stream",
          "name": "stdout",
          "text": [
            "Sum of all elements: 136\n"
          ]
        }
      ]
    },
    {
      "cell_type": "markdown",
      "source": [
        "### 1.8 WAP to sum all ODD numbers in L."
      ],
      "metadata": {
        "id": "3UwvzmWJ_IIW"
      }
    },
    {
      "cell_type": "code",
      "source": [
        "odd_sum = sum(x for x in L if x % 2 != 0)\n",
        "print(\"Sum of odd numbers:\", odd_sum)"
      ],
      "metadata": {
        "colab": {
          "base_uri": "https://localhost:8080/"
        },
        "id": "RTC0Wpms_T5T",
        "outputId": "6791df13-38f8-40ed-d643-9aa6b09bb01d"
      },
      "execution_count": 9,
      "outputs": [
        {
          "output_type": "stream",
          "name": "stdout",
          "text": [
            "Sum of odd numbers: 0\n"
          ]
        }
      ]
    },
    {
      "cell_type": "markdown",
      "source": [
        "### 1.9 WAP to sum all EVEN numbers in L."
      ],
      "metadata": {
        "id": "WHwYYPjD_azC"
      }
    },
    {
      "cell_type": "code",
      "source": [
        "even_sum = sum(x for x in L if x % 2 == 0)\n",
        "print(\"Sum of even numbers:\", even_sum)"
      ],
      "metadata": {
        "colab": {
          "base_uri": "https://localhost:8080/"
        },
        "id": "F66Q30Lb_hXJ",
        "outputId": "be525626-2729-43d2-c9c3-aa5172c71f62"
      },
      "execution_count": 10,
      "outputs": [
        {
          "output_type": "stream",
          "name": "stdout",
          "text": [
            "Sum of even numbers: 136\n"
          ]
        }
      ]
    },
    {
      "cell_type": "markdown",
      "source": [
        "### 1.10 WAP to sum all PRIME numbers in L."
      ],
      "metadata": {
        "id": "IdqRq_Pp_k6R"
      }
    },
    {
      "cell_type": "code",
      "source": [
        "def is_prime(n):\n",
        "    if n <= 1:\n",
        "        return False\n",
        "    for i in range(2, int(n**0.5)+1):\n",
        "        if n % i == 0:\n",
        "            return False\n",
        "    return True\n",
        "\n",
        "prime_sum = sum(x for x in L if is_prime(x))\n",
        "print(\"Sum of prime numbers:\", prime_sum)\n"
      ],
      "metadata": {
        "colab": {
          "base_uri": "https://localhost:8080/"
        },
        "id": "skh8xUso_tHV",
        "outputId": "e8de0c42-569a-4d7c-d77e-914c77117487"
      },
      "execution_count": 11,
      "outputs": [
        {
          "output_type": "stream",
          "name": "stdout",
          "text": [
            "Sum of prime numbers: 0\n"
          ]
        }
      ]
    },
    {
      "cell_type": "markdown",
      "source": [
        "### 1.11 WAP to clear all the elements in L."
      ],
      "metadata": {
        "id": "V5w5sqC7_565"
      }
    },
    {
      "cell_type": "code",
      "source": [
        "L.clear()\n",
        "print(\"After clearing:\", L)"
      ],
      "metadata": {
        "colab": {
          "base_uri": "https://localhost:8080/"
        },
        "id": "XKS3EtJJ__kh",
        "outputId": "889c2f89-af57-478b-d2c9-3fb06320d849"
      },
      "execution_count": 12,
      "outputs": [
        {
          "output_type": "stream",
          "name": "stdout",
          "text": [
            "After clearing: []\n"
          ]
        }
      ]
    },
    {
      "cell_type": "markdown",
      "source": [
        "### 1.12 WAP to delete L."
      ],
      "metadata": {
        "id": "1NMri9nvACJC"
      }
    },
    {
      "cell_type": "code",
      "source": [
        "del L"
      ],
      "metadata": {
        "id": "aYY9uyJeAITw"
      },
      "execution_count": 13,
      "outputs": []
    },
    {
      "cell_type": "markdown",
      "source": [
        "## 2. D is a dictionary defined as D= {1:5.6, 2:7.8, 3:6.6, 4:8.7, 5:7.7}."
      ],
      "metadata": {
        "id": "4Sg7IcrIAPLX"
      }
    },
    {
      "cell_type": "code",
      "source": [
        "D = {1:5.6, 2:7.8, 3:6.6, 4:8.7, 5:7.7}\n"
      ],
      "metadata": {
        "id": "Bb_bzjhRAa5T"
      },
      "execution_count": 14,
      "outputs": []
    },
    {
      "cell_type": "markdown",
      "source": [
        "### 2.1 WAP to add new entry in D; key=8 and value is 8.8"
      ],
      "metadata": {
        "id": "FHzoz-eFAhpm"
      }
    },
    {
      "cell_type": "code",
      "source": [
        "D[8] = 8.8\n",
        "print(\"After adding 8:8.8:\", D)\n"
      ],
      "metadata": {
        "colab": {
          "base_uri": "https://localhost:8080/"
        },
        "id": "ZFbMVoVEAoeI",
        "outputId": "c00f91b7-b5d6-4487-8b0f-5c56fd6e2cd0"
      },
      "execution_count": 15,
      "outputs": [
        {
          "output_type": "stream",
          "name": "stdout",
          "text": [
            "After adding 8:8.8: {1: 5.6, 2: 7.8, 3: 6.6, 4: 8.7, 5: 7.7, 8: 8.8}\n"
          ]
        }
      ]
    },
    {
      "cell_type": "markdown",
      "source": [
        "### 2.2 WAP to remove key=2."
      ],
      "metadata": {
        "id": "nbcJK5q-Ayom"
      }
    },
    {
      "cell_type": "code",
      "source": [
        "del D[2]\n",
        "print(\"After removing key 2:\", D)\n"
      ],
      "metadata": {
        "colab": {
          "base_uri": "https://localhost:8080/"
        },
        "id": "uXV-Qb5JA5Xa",
        "outputId": "e3de3466-53e5-43bb-9e22-90a65cd7fee8"
      },
      "execution_count": 16,
      "outputs": [
        {
          "output_type": "stream",
          "name": "stdout",
          "text": [
            "After removing key 2: {1: 5.6, 3: 6.6, 4: 8.7, 5: 7.7, 8: 8.8}\n"
          ]
        }
      ]
    },
    {
      "cell_type": "markdown",
      "source": [
        "### 2.3 WAP to check weather 6 key is present in D."
      ],
      "metadata": {
        "id": "EyO5FwXsBB-H"
      }
    },
    {
      "cell_type": "code",
      "source": [
        "print(\"Is key 6 present?\", 6 in D)"
      ],
      "metadata": {
        "colab": {
          "base_uri": "https://localhost:8080/"
        },
        "id": "IzX2LK-HBI2C",
        "outputId": "6209e695-20be-4a4a-a858-54287703d74c"
      },
      "execution_count": 17,
      "outputs": [
        {
          "output_type": "stream",
          "name": "stdout",
          "text": [
            "Is key 6 present? False\n"
          ]
        }
      ]
    },
    {
      "cell_type": "markdown",
      "source": [
        "### 2.4 WAP to count the number of elements present in D."
      ],
      "metadata": {
        "id": "myaeTIXqBLm7"
      }
    },
    {
      "cell_type": "code",
      "source": [
        "print(\"Number of elements:\", len(D))"
      ],
      "metadata": {
        "colab": {
          "base_uri": "https://localhost:8080/"
        },
        "id": "UiBi51ITBQ6Y",
        "outputId": "cecb0701-b84a-45e8-a342-c2cd8d85778f"
      },
      "execution_count": 18,
      "outputs": [
        {
          "output_type": "stream",
          "name": "stdout",
          "text": [
            "Number of elements: 5\n"
          ]
        }
      ]
    },
    {
      "cell_type": "markdown",
      "source": [
        "### 2.5 WAP to add all the values present D."
      ],
      "metadata": {
        "id": "LseCdDT2BTcl"
      }
    },
    {
      "cell_type": "code",
      "source": [
        "print(\"Sum of all values:\", sum(D.values()))"
      ],
      "metadata": {
        "colab": {
          "base_uri": "https://localhost:8080/"
        },
        "id": "VwXXwfr7Bl4k",
        "outputId": "f33305e6-bf5f-4a8d-e4ed-068f6dab20de"
      },
      "execution_count": 19,
      "outputs": [
        {
          "output_type": "stream",
          "name": "stdout",
          "text": [
            "Sum of all values: 37.4\n"
          ]
        }
      ]
    },
    {
      "cell_type": "markdown",
      "source": [
        "### 2.6 WAP to update the value of 3 to 7.1."
      ],
      "metadata": {
        "id": "v4yZGYecBogQ"
      }
    },
    {
      "cell_type": "code",
      "source": [
        "D[3] = 7.1\n",
        "print(\"After updating key 3:\", D)"
      ],
      "metadata": {
        "colab": {
          "base_uri": "https://localhost:8080/"
        },
        "id": "UOT7NEIdBtvT",
        "outputId": "790a24a1-2d17-4825-85e3-6a18942722c9"
      },
      "execution_count": 20,
      "outputs": [
        {
          "output_type": "stream",
          "name": "stdout",
          "text": [
            "After updating key 3: {1: 5.6, 3: 7.1, 4: 8.7, 5: 7.7, 8: 8.8}\n"
          ]
        }
      ]
    },
    {
      "cell_type": "markdown",
      "source": [
        "### 2.7 WAP to clear the dictionary."
      ],
      "metadata": {
        "id": "ZcYMR_giBywD"
      }
    },
    {
      "cell_type": "code",
      "source": [
        "D.clear()\n",
        "print(\"After clearing:\", D)"
      ],
      "metadata": {
        "colab": {
          "base_uri": "https://localhost:8080/"
        },
        "id": "x7-LXHo4B3dl",
        "outputId": "50ad37c0-cf31-4284-c46e-b9950e73c1bd"
      },
      "execution_count": 21,
      "outputs": [
        {
          "output_type": "stream",
          "name": "stdout",
          "text": [
            "After clearing: {}\n"
          ]
        }
      ]
    },
    {
      "cell_type": "markdown",
      "source": [
        "##  3. S1 is a set defined as S1= [10, 20, 30, 40, 50, 60].\n",
        "##      S2 is a set defined as S2= [40, 50, 60, 70, 80, 90].\n",
        "\n"
      ],
      "metadata": {
        "id": "Oq0vB5ejB7pm"
      }
    },
    {
      "cell_type": "code",
      "source": [
        "S1 = {10, 20, 30, 40, 50, 60}\n",
        "S2 = {40, 50, 60, 70, 80, 90}\n"
      ],
      "metadata": {
        "id": "xMORbJzmCcln"
      },
      "execution_count": 22,
      "outputs": []
    },
    {
      "cell_type": "markdown",
      "source": [
        "### 3.1 WAP to add 55 and 66 in Set S1."
      ],
      "metadata": {
        "id": "gGlLH_aDCcPU"
      }
    },
    {
      "cell_type": "code",
      "source": [
        "S1.add(55)\n",
        "S1.add(66)\n",
        "print(\"After adding 55 and 66 to S1:\", S1)"
      ],
      "metadata": {
        "colab": {
          "base_uri": "https://localhost:8080/"
        },
        "id": "K57RJyhpCmzn",
        "outputId": "142e15af-43bc-401a-bf5b-be8878752ea7"
      },
      "execution_count": 23,
      "outputs": [
        {
          "output_type": "stream",
          "name": "stdout",
          "text": [
            "After adding 55 and 66 to S1: {50, 66, 20, 55, 40, 10, 60, 30}\n"
          ]
        }
      ]
    },
    {
      "cell_type": "markdown",
      "source": [
        "### 3.2 WAP to remove 10 and 30 from Set S1."
      ],
      "metadata": {
        "id": "XfD0VwKwDEsE"
      }
    },
    {
      "cell_type": "code",
      "source": [
        "S1.discard(10)\n",
        "S1.discard(30)\n",
        "print(\"After removing 10 and 30 from S1:\", S1)"
      ],
      "metadata": {
        "colab": {
          "base_uri": "https://localhost:8080/"
        },
        "id": "piZu7SxNDNiw",
        "outputId": "260bc10c-9d47-48f1-de21-d330845dbd66"
      },
      "execution_count": 24,
      "outputs": [
        {
          "output_type": "stream",
          "name": "stdout",
          "text": [
            "After removing 10 and 30 from S1: {50, 66, 20, 55, 40, 60}\n"
          ]
        }
      ]
    },
    {
      "cell_type": "markdown",
      "source": [
        "### 3.3 WAP to check whether 40 is present in S1."
      ],
      "metadata": {
        "id": "TN4K_IDEDQUw"
      }
    },
    {
      "cell_type": "code",
      "source": [
        "print(\"Is 40 in S1?\", 40 in S1)"
      ],
      "metadata": {
        "colab": {
          "base_uri": "https://localhost:8080/"
        },
        "id": "DTRemJLzDUr_",
        "outputId": "ecc37caf-689b-4fc6-afe3-66d7a7c03468"
      },
      "execution_count": 25,
      "outputs": [
        {
          "output_type": "stream",
          "name": "stdout",
          "text": [
            "Is 40 in S1? True\n"
          ]
        }
      ]
    },
    {
      "cell_type": "markdown",
      "source": [
        "### 3.4 WAP to find the union between S1 and S2."
      ],
      "metadata": {
        "id": "0WzrxzSuDW0k"
      }
    },
    {
      "cell_type": "code",
      "source": [
        "print(\"Union of S1 and S2:\", S1.union(S2))"
      ],
      "metadata": {
        "colab": {
          "base_uri": "https://localhost:8080/"
        },
        "id": "rfjc8700DbsE",
        "outputId": "712e891b-51f2-45ce-df7e-10bfd744746f"
      },
      "execution_count": 26,
      "outputs": [
        {
          "output_type": "stream",
          "name": "stdout",
          "text": [
            "Union of S1 and S2: {66, 70, 40, 80, 50, 20, 55, 90, 60}\n"
          ]
        }
      ]
    },
    {
      "cell_type": "markdown",
      "source": [
        "### 3.5 WAP to find the intersection between S1 and S2."
      ],
      "metadata": {
        "id": "5RRlPswGDe4a"
      }
    },
    {
      "cell_type": "code",
      "source": [
        "print(\"Intersection of S1 and S2:\", S1.intersection(S2))"
      ],
      "metadata": {
        "colab": {
          "base_uri": "https://localhost:8080/"
        },
        "id": "jY8pHnc2Dko1",
        "outputId": "0b184b5f-0418-4a37-a69f-87e11cc16220"
      },
      "execution_count": 27,
      "outputs": [
        {
          "output_type": "stream",
          "name": "stdout",
          "text": [
            "Intersection of S1 and S2: {40, 50, 60}\n"
          ]
        }
      ]
    },
    {
      "cell_type": "markdown",
      "source": [
        "### 3.6 WAP to find the S1 - S2."
      ],
      "metadata": {
        "id": "jqC01FhPDncA"
      }
    },
    {
      "cell_type": "code",
      "source": [
        "print(\"S1 - S2:\", S1.difference(S2))"
      ],
      "metadata": {
        "colab": {
          "base_uri": "https://localhost:8080/"
        },
        "id": "Q1YyODvGDs5a",
        "outputId": "094707c0-20c6-4b52-a387-936fbe01932f"
      },
      "execution_count": 28,
      "outputs": [
        {
          "output_type": "stream",
          "name": "stdout",
          "text": [
            "S1 - S2: {66, 20, 55}\n"
          ]
        }
      ]
    },
    {
      "cell_type": "markdown",
      "source": [
        "## 4. Write the following program."
      ],
      "metadata": {
        "id": "0wHEX4__DweY"
      }
    },
    {
      "cell_type": "code",
      "source": [
        "import random\n",
        "import string"
      ],
      "metadata": {
        "id": "InHxbbEGD__K"
      },
      "execution_count": 29,
      "outputs": []
    },
    {
      "cell_type": "markdown",
      "source": [
        "### 4.1 WAP to print 100 random strings whose length between 6 and 8."
      ],
      "metadata": {
        "id": "f5_1Pr5ND2G4"
      }
    },
    {
      "cell_type": "code",
      "source": [
        "def random_string():\n",
        "    length = random.randint(6, 8)\n",
        "    return ''.join(random.choice(string.ascii_letters) for i in range(length))\n",
        "\n",
        "print(\"100 random strings:\")\n",
        "for i in range(100):\n",
        "    print(random_string())"
      ],
      "metadata": {
        "collapsed": true,
        "id": "TAODl5DbD9e5"
      },
      "execution_count": null,
      "outputs": []
    },
    {
      "cell_type": "markdown",
      "source": [
        "### 4.2 WAP to print all prime numbers between 600 and 800."
      ],
      "metadata": {
        "id": "Nclm5CPjENhy"
      }
    },
    {
      "cell_type": "code",
      "source": [
        "def is_prime(n):\n",
        "    if n <= 1:\n",
        "        return False\n",
        "    for i in range(2, int(n**0.5)+1):\n",
        "        if n % i == 0:\n",
        "            return False\n",
        "    return True\n",
        "\n",
        "print(\"\\nPrime numbers between 600 and 800:\")\n",
        "for num in range(600, 801):\n",
        "    if is_prime(num):\n",
        "        print(num, end=',')\n",
        "print()\n"
      ],
      "metadata": {
        "id": "ynHxORM7ETje"
      },
      "execution_count": null,
      "outputs": []
    },
    {
      "cell_type": "markdown",
      "source": [
        "### 4.3 WAP to print all numbers between 100 and 1000 that are divisible by 7 and 9."
      ],
      "metadata": {
        "id": "EfgTCRLVEhpb"
      }
    },
    {
      "cell_type": "code",
      "source": [
        "print(\"\\nNumbers between 100 and 1000 divisible by 7 and 9:\")\n",
        "for num in range(100, 1001):\n",
        "    if num % 7 == 0 and num % 9 == 0:\n",
        "        print(num, end=',')\n",
        "print()"
      ],
      "metadata": {
        "id": "-B06m3flEn-K"
      },
      "execution_count": null,
      "outputs": []
    },
    {
      "cell_type": "markdown",
      "source": [
        "## 5. WAP to create two lists of 10 random numbers between 10 and 30; Find  "
      ],
      "metadata": {
        "id": "mqIwODiBEy62"
      }
    },
    {
      "cell_type": "code",
      "source": [
        "import random\n",
        "list1 = [random.randint(10, 30) for _ in range(10)]\n",
        "list2 = [random.randint(10, 30) for _ in range(10)]\n",
        "\n",
        "print(\"List 1:\", list1)\n",
        "print(\"List 2:\", list2)\n"
      ],
      "metadata": {
        "colab": {
          "base_uri": "https://localhost:8080/"
        },
        "id": "4hr7UKNnE79Z",
        "outputId": "9ae9d9b6-2528-4cfd-8d84-5e7b76db4082"
      },
      "execution_count": 37,
      "outputs": [
        {
          "output_type": "stream",
          "name": "stdout",
          "text": [
            "List 1: [26, 20, 26, 12, 20, 24, 27, 11, 15, 17]\n",
            "List 2: [19, 15, 24, 28, 26, 13, 23, 23, 28, 10]\n"
          ]
        }
      ]
    },
    {
      "cell_type": "markdown",
      "source": [
        "### 5.1 Common numbers in the two lists"
      ],
      "metadata": {
        "id": "uc5zpH6rE-Tn"
      }
    },
    {
      "cell_type": "code",
      "source": [
        "common = set(list1) & set(list2)\n",
        "print(\"Common numbers:\", common)"
      ],
      "metadata": {
        "colab": {
          "base_uri": "https://localhost:8080/"
        },
        "id": "LPaPcUY7FE-a",
        "outputId": "58b2dfb5-3976-45c5-bc8e-15d406fd546e"
      },
      "execution_count": 38,
      "outputs": [
        {
          "output_type": "stream",
          "name": "stdout",
          "text": [
            "Common numbers: {24, 26, 15}\n"
          ]
        }
      ]
    },
    {
      "cell_type": "markdown",
      "source": [
        "### 5.2 Unique numbers in both the list"
      ],
      "metadata": {
        "id": "QLGGMi1IFQn0"
      }
    },
    {
      "cell_type": "code",
      "source": [
        "unique = set(list1) ^ set(list2)\n",
        "print(\"Unique numbers:\", unique)"
      ],
      "metadata": {
        "colab": {
          "base_uri": "https://localhost:8080/"
        },
        "id": "s_XmtqqvFWHJ",
        "outputId": "0bd1c902-acc4-4b06-c20f-83988f292433"
      },
      "execution_count": 39,
      "outputs": [
        {
          "output_type": "stream",
          "name": "stdout",
          "text": [
            "Unique numbers: {10, 11, 12, 13, 17, 19, 20, 23, 27, 28}\n"
          ]
        }
      ]
    },
    {
      "cell_type": "markdown",
      "source": [
        "### 5.3 Minimum in both the list"
      ],
      "metadata": {
        "id": "PbaSobabFZIY"
      }
    },
    {
      "cell_type": "code",
      "source": [
        "print(\"Min in list1:\",min(list1), \"  Min in list2:\",min(list2))"
      ],
      "metadata": {
        "colab": {
          "base_uri": "https://localhost:8080/"
        },
        "id": "6t-GuODyFesO",
        "outputId": "f9046a58-8315-4b3e-a4b6-cd9050e85a8f"
      },
      "execution_count": 46,
      "outputs": [
        {
          "output_type": "stream",
          "name": "stdout",
          "text": [
            "Min in list1: 11   Min in list2: 10\n"
          ]
        }
      ]
    },
    {
      "cell_type": "markdown",
      "source": [
        "### 5.4 Maximum in both the list"
      ],
      "metadata": {
        "id": "MlHSMsX2FuBB"
      }
    },
    {
      "cell_type": "code",
      "source": [
        "print(\"Max in list1:\", max(list1), \"Max in list2:\", max(list2))"
      ],
      "metadata": {
        "colab": {
          "base_uri": "https://localhost:8080/"
        },
        "id": "ZeNqnTN3FyHr",
        "outputId": "ed222b1f-3985-46a1-8051-9d4045d30a5b"
      },
      "execution_count": 48,
      "outputs": [
        {
          "output_type": "stream",
          "name": "stdout",
          "text": [
            "Max in list1: 27 Max in list2: 28\n"
          ]
        }
      ]
    },
    {
      "cell_type": "markdown",
      "source": [
        "### 5.5 Sum of both the lists"
      ],
      "metadata": {
        "id": "-hB0IkfzF2wo"
      }
    },
    {
      "cell_type": "code",
      "source": [
        "print(\"Sum of list1:\", sum(list1), \"  Sum of list2:\", sum(list2))"
      ],
      "metadata": {
        "colab": {
          "base_uri": "https://localhost:8080/"
        },
        "id": "lzKcmS-yF7WW",
        "outputId": "23439c73-0b13-4051-b7a3-528c1e9eb812"
      },
      "execution_count": 50,
      "outputs": [
        {
          "output_type": "stream",
          "name": "stdout",
          "text": [
            "Sum of list1: 198   Sum of list2: 209\n"
          ]
        }
      ]
    },
    {
      "cell_type": "markdown",
      "source": [
        "## 6. WAP to create a list of 100 random numbers between 100 and 900. Count and print the:"
      ],
      "metadata": {
        "id": "rBbN7hMYGBLx"
      }
    },
    {
      "cell_type": "code",
      "source": [
        "import random\n",
        "numbers = [random.randint(100, 900) for _ in range(100)]\n",
        "\n"
      ],
      "metadata": {
        "id": "F-8JbCN1GIew"
      },
      "execution_count": 73,
      "outputs": []
    },
    {
      "cell_type": "markdown",
      "source": [
        "### 6.1 All odd numbers"
      ],
      "metadata": {
        "id": "cTskjheZGPnI"
      }
    },
    {
      "cell_type": "code",
      "source": [
        "odd_numbers = [x for x in numbers if x % 2 != 0]\n",
        "print(\"Odd numbers:\", odd_numbers)\n",
        "print(\"Count:\", len(odd_numbers))"
      ],
      "metadata": {
        "colab": {
          "base_uri": "https://localhost:8080/"
        },
        "id": "74mrFsPjGUzC",
        "outputId": "669d049e-1c4e-4555-b0d7-4a8f1b5d847f"
      },
      "execution_count": 74,
      "outputs": [
        {
          "output_type": "stream",
          "name": "stdout",
          "text": [
            "Odd numbers: [167, 141, 415, 257, 523, 825, 469, 487, 537, 231, 363, 369, 787, 833, 119, 517, 807, 287, 571, 471, 787, 299, 709, 459, 693, 409, 117, 833, 117, 847, 237, 451, 517, 285, 379, 841, 167, 509, 395, 697, 229, 409, 613, 135]\n",
            "Count: 44\n"
          ]
        }
      ]
    },
    {
      "cell_type": "markdown",
      "source": [
        "### 6.2 All even numbers"
      ],
      "metadata": {
        "id": "owN8GZRLGrCn"
      }
    },
    {
      "cell_type": "code",
      "source": [
        "even_numbers = [x for x in numbers if x % 2 == 0]\n",
        "print(\"\\nEven numbers:\", even_numbers)\n",
        "print(\"Count:\", len(even_numbers))"
      ],
      "metadata": {
        "colab": {
          "base_uri": "https://localhost:8080/"
        },
        "id": "-RHBM0qTGygE",
        "outputId": "803f5418-222e-4146-a9ca-5728d05c80f5"
      },
      "execution_count": 75,
      "outputs": [
        {
          "output_type": "stream",
          "name": "stdout",
          "text": [
            "\n",
            "Even numbers: [348, 318, 600, 484, 742, 376, 228, 344, 456, 368, 218, 672, 468, 340, 110, 304, 204, 664, 488, 708, 644, 368, 400, 800, 640, 488, 150, 332, 694, 470, 406, 838, 294, 324, 770, 896, 394, 746, 834, 106, 314, 696, 436, 626, 664, 454, 404, 476, 586, 276, 816, 840, 220, 172, 472, 326]\n",
            "Count: 56\n"
          ]
        }
      ]
    },
    {
      "cell_type": "markdown",
      "source": [
        "### 6.3 All prime numbers"
      ],
      "metadata": {
        "id": "k16WqNGfG3Sz"
      }
    },
    {
      "cell_type": "code",
      "source": [
        "def is_prime(n):\n",
        "    if n <= 1:\n",
        "        return False\n",
        "    for i in range(2, int(n**0.5)+1):\n",
        "        if n % i == 0:\n",
        "            return False\n",
        "    return True\n",
        "\n",
        "prime_numbers = [x for x in numbers if is_prime(x)]\n",
        "print(\"\\nPrime numbers:\", prime_numbers)\n",
        "print(\"Count:\", len(prime_numbers))"
      ],
      "metadata": {
        "colab": {
          "base_uri": "https://localhost:8080/"
        },
        "id": "nALOVowrG7Kr",
        "outputId": "c82aff58-6526-45a4-9f7b-55804c0a4191"
      },
      "execution_count": 76,
      "outputs": [
        {
          "output_type": "stream",
          "name": "stdout",
          "text": [
            "\n",
            "Prime numbers: [167, 257, 523, 487, 787, 571, 787, 709, 409, 379, 167, 509, 229, 409, 613]\n",
            "Count: 15\n"
          ]
        }
      ]
    },
    {
      "cell_type": "markdown",
      "source": [
        "## 7.  D is a dictionary defined as D={1:\"One\",2:\"Two\",3:\"Three\",4:\"Four\", 5:\"Five\"}.  "
      ],
      "metadata": {
        "id": "XtpKgfUWG_De"
      }
    },
    {
      "cell_type": "markdown",
      "source": [
        "### 7.1 WAP to read all the keys and values from dictionary and write to the file in the given below format.\n",
        "    Key1, Value1\n",
        "    Key2, Value2\n",
        "    Key3, Value3  "
      ],
      "metadata": {
        "id": "BrCkBgLyHHaY"
      }
    },
    {
      "cell_type": "code",
      "source": [
        "D = {1:\"One\", 2:\"Two\", 3:\"Three\", 4:\"Four\", 5:\"Five\"}\n",
        "\n",
        "with open(\"dictionary_output.txt\", \"w\") as file:\n",
        "    for key, value in D.items():\n",
        "        file.write(f\"{key}, {value}\\n\")\n",
        "print(\"Dictionary written to file successfully.\")"
      ],
      "metadata": {
        "colab": {
          "base_uri": "https://localhost:8080/"
        },
        "id": "u4d_n7nHHRts",
        "outputId": "254235bd-4e67-4e32-e17e-ccbc38585642"
      },
      "execution_count": 77,
      "outputs": [
        {
          "output_type": "stream",
          "name": "stdout",
          "text": [
            "Dictionary written to file successfully.\n"
          ]
        }
      ]
    },
    {
      "cell_type": "markdown",
      "source": [
        "##  8. L is a list defined as L={\"One\",\"Two\",\"Three\",\"Four\",\"Five\"}."
      ],
      "metadata": {
        "id": "QQl694DMHkLn"
      }
    },
    {
      "cell_type": "markdown",
      "source": [
        "### 8.1 WAP to count the length of reach element from a list and write to the file in the given below format:\n",
        "    One, 3\n",
        "    Two, 3\n",
        "    Four, 4"
      ],
      "metadata": {
        "id": "GplmQABOHtz5"
      }
    },
    {
      "cell_type": "code",
      "source": [
        "L = [\"One\", \"Two\", \"Three\", \"Four\", \"Five\"]\n",
        "\n",
        "with open(\"list_lengths.txt\", \"w\") as file:\n",
        "    for item in L:\n",
        "        file.write(f\"{item}, {len(item)}\\n\")\n",
        "print(\"List element lengths written to file successfully.\")"
      ],
      "metadata": {
        "colab": {
          "base_uri": "https://localhost:8080/"
        },
        "id": "9vF-KBiZH4KG",
        "outputId": "d1cc8110-45ea-4b01-abd6-bfe8f2124674"
      },
      "execution_count": 79,
      "outputs": [
        {
          "output_type": "stream",
          "name": "stdout",
          "text": [
            "List element lengths written to file successfully.\n"
          ]
        }
      ]
    },
    {
      "cell_type": "markdown",
      "source": [
        "## 9. Write to the file 100 random strings whose length between 10 and 15."
      ],
      "metadata": {
        "id": "8P9GCzGPIC6F"
      }
    },
    {
      "cell_type": "code",
      "source": [
        "import random\n",
        "import string\n",
        "\n",
        "def random_string():\n",
        "    length = random.randint(10, 15)\n",
        "    return ''.join(random.choice(string.ascii_letters) for _ in range(length))\n",
        "\n",
        "with open(\"random_strings.txt\", \"w\") as file:\n",
        "    for _ in range(100):\n",
        "        file.write(random_string() + \"\\n\")\n",
        "print(\"100 random strings written to file successfully.\")"
      ],
      "metadata": {
        "colab": {
          "base_uri": "https://localhost:8080/"
        },
        "id": "mt8yePoAIIPI",
        "outputId": "f2a15345-e35b-40d6-f71c-02471df23ee6"
      },
      "execution_count": 80,
      "outputs": [
        {
          "output_type": "stream",
          "name": "stdout",
          "text": [
            "100 random strings written to file successfully.\n"
          ]
        }
      ]
    },
    {
      "cell_type": "markdown",
      "source": [
        "## 10. Write to the file all prime numbers between 600 and 800."
      ],
      "metadata": {
        "id": "padLsx95IVi3"
      }
    },
    {
      "cell_type": "code",
      "source": [
        "def is_prime(n):\n",
        "    if n <= 1:\n",
        "        return False\n",
        "    for i in range(2, int(n**0.5)+1):\n",
        "        if n % i == 0:\n",
        "            return False\n",
        "    return True\n",
        "\n",
        "with open(\"primes_600_800.txt\", \"w\") as file:\n",
        "    for num in range(600, 801):\n",
        "        if is_prime(num):\n",
        "            file.write(f\"{num}\\n\")\n",
        "print(\"Prime numbers between 600-800 written to file successfully.\")"
      ],
      "metadata": {
        "id": "-PIk3OWGIZlc"
      },
      "execution_count": null,
      "outputs": []
    },
    {
      "cell_type": "markdown",
      "source": [
        "## 11.  WAP to calculate the time taken by a program."
      ],
      "metadata": {
        "id": "MaWnQSyCIeMD"
      }
    },
    {
      "cell_type": "code",
      "source": [
        "import time\n",
        "\n",
        "start_time = time.time()\n",
        "\n",
        "total = sum(range(1, 1000001))\n",
        "\n",
        "end_time = time.time()\n",
        "elapsed_time = end_time - start_time\n",
        "\n",
        "print(f\"Time taken: {elapsed_time:.6f} seconds\")"
      ],
      "metadata": {
        "colab": {
          "base_uri": "https://localhost:8080/"
        },
        "id": "KuZsnnBrIkzM",
        "outputId": "6018f6be-4c66-4512-ce51-5079091e20ca"
      },
      "execution_count": 88,
      "outputs": [
        {
          "output_type": "stream",
          "name": "stdout",
          "text": [
            "Time taken: 0.018181 seconds\n"
          ]
        }
      ]
    },
    {
      "cell_type": "markdown",
      "source": [
        "## 12. WAP to sort following number of elements in a list, calculate time taken and plot the graph.    \n",
        "![Screenshot 2025-06-14 120223.png](data:image/png;base64,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)"
      ],
      "metadata": {
        "id": "m047ZxydIwtp"
      }
    },
    {
      "cell_type": "code",
      "source": [
        "import time\n",
        "import random\n",
        "import matplotlib.pyplot as plt\n",
        "\n",
        "sizes = [5000, 10000, 15000, 20000, 25000]\n",
        "times = []\n",
        "\n",
        "for size in sizes:\n",
        "    data = [random.randint(1, 100000) for _ in range(size)]\n",
        "\n",
        "    starttime = time.time()\n",
        "    data.sort()\n",
        "    endtime = time.time()\n",
        "\n",
        "    Timetaken = end_time - start_time\n",
        "    times.append(Timetaken)\n",
        "\n",
        "    print(f\"Sorted {size} elements in {Timetaken:.6f} seconds\")\n",
        "\n",
        "# Plot the graph\n",
        "plt.plot(sizes, times, marker='o')\n",
        "plt.title('Sorting Time Analysis')\n",
        "plt.xlabel('Number of Elements')\n",
        "plt.ylabel('Time Taken (seconds)')\n",
        "plt.grid(True)\n",
        "plt.show()"
      ],
      "metadata": {
        "colab": {
          "base_uri": "https://localhost:8080/",
          "height": 564
        },
        "id": "GkxHQ_F9JI_W",
        "outputId": "4a40e653-f6a3-4395-baad-0d52b12d5cbb"
      },
      "execution_count": 93,
      "outputs": [
        {
          "output_type": "stream",
          "name": "stdout",
          "text": [
            "Sorted 5000 elements in 0.018181 seconds\n",
            "Sorted 10000 elements in 0.018181 seconds\n",
            "Sorted 15000 elements in 0.018181 seconds\n",
            "Sorted 20000 elements in 0.018181 seconds\n",
            "Sorted 25000 elements in 0.018181 seconds\n"
          ]
        },
        {
          "output_type": "display_data",
          "data": {
            "text/plain": [
              "<Figure size 640x480 with 1 Axes>"
            ],
            "image/png": "[encoded data removed]"
          },
          "metadata": {}
        }
      ]
    },
    {
      "cell_type": "markdown",
      "source": [
        "## 13. WAP to create a dictionary of student marks in five subjects and you have to find the student having maximum and minimum average marks."
      ],
      "metadata": {
        "id": "MgiwUVGOJnlP"
      }
    },
    {
      "cell_type": "code",
      "source": [
        "students = {\n",
        "    \"Alice\": [85, 90, 78, 92, 88],\n",
        "    \"Bob\": [72, 68, 75, 80, 65],\n",
        "    \"Charlie\": [90, 95, 92, 88, 94],\n",
        "    \"Diana\": [80, 85, 78, 82, 80],\n",
        "    \"Ethan\": [65, 70, 68, 72, 75]\n",
        "}\n",
        "\n",
        "averages = {name: sum(marks)/len(marks) for name, marks in students.items()}\n",
        "\n",
        "max_student = max(averages.items(), key=lambda x: x[1])\n",
        "min_student = min(averages.items(), key=lambda x: x[1])\n",
        "\n",
        "print(f\"Student with maximum average: {max_student[0]} ({max_student[1]:.2f})\")\n",
        "print(f\"Student with minimum average: {min_student[0]} ({min_student[1]:.2f})\")"
      ],
      "metadata": {
        "colab": {
          "base_uri": "https://localhost:8080/"
        },
        "id": "-UPUC1T5J0MO",
        "outputId": "baae2ae1-cc8d-4574-82ab-b6b7f40c6d79"
      },
      "execution_count": 94,
      "outputs": [
        {
          "output_type": "stream",
          "name": "stdout",
          "text": [
            "Student with maximum average: Charlie (91.80)\n",
            "Student with minimum average: Ethan (70.00)\n"
          ]
        }
      ]
    }
  ]
}